{
 "cells": [
  {
   "cell_type": "code",
   "execution_count": null,
   "id": "22687844",
   "metadata": {},
   "outputs": [],
   "source": [
    "import pandas as pd\n",
    "import matplotlib.pyplot as plt\n",
    "import seaborn as sns\n",
    "\n",
    "%matplotlib inline\n",
    "pd.plotting.register_matplotlib_converters()"
   ]
  },
  {
   "cell_type": "code",
   "execution_count": null,
   "id": "d55056f9",
   "metadata": {},
   "outputs": [],
   "source": [
    "match_data = pd.read_csv('pl_data/matches.csv',index_col = 0)\n",
    "team_seasons = pd.read_csv('pl_data/seasonstats.csv',index_col = 0)"
   ]
  },
  {
   "cell_type": "code",
   "execution_count": null,
   "id": "f3beaa49",
   "metadata": {},
   "outputs": [],
   "source": [
    "\n",
    "helpt = { 'W':'wins','D':'draws','L':'loses','GF':'goals scored','GA':'goals conceeded','Pts':'points',\n",
    "    'Sh':'shots','SoT':'shots on target','Cmp':'passes completed','PK':'penalty goals','Cmp':'pass completion%',\n",
    "        'CK':'corners','CrdY':'yellow cards','CrdR':'red cards','Fls':'fouls conceeded','Pkcon':'penalities conceeded'\n",
    "}"
   ]
  },
  {
   "cell_type": "code",
   "execution_count": null,
   "id": "336ad4d8",
   "metadata": {},
   "outputs": [],
   "source": [
    "print(team_seasons.columns)\n"
   ]
  },
  {
   "cell_type": "code",
   "execution_count": null,
   "id": "28c65112",
   "metadata": {},
   "outputs": [],
   "source": [
    "team_seasons.head()"
   ]
  },
  {
   "cell_type": "code",
   "execution_count": null,
   "id": "d758e127",
   "metadata": {},
   "outputs": [],
   "source": [
    "match_data.head()"
   ]
  },
  {
   "cell_type": "code",
   "execution_count": null,
   "id": "8020f684",
   "metadata": {},
   "outputs": [],
   "source": [
    "match_data = match_data.rename(columns = {'xG':'xG','xG.1':'xGC'})\n",
    "print(match_data.columns)"
   ]
  },
  {
   "cell_type": "code",
   "execution_count": null,
   "id": "338688d4",
   "metadata": {},
   "outputs": [],
   "source": [
    "team_seasons = team_seasons.drop(columns = ['FK','OG'])"
   ]
  },
  {
   "cell_type": "code",
   "execution_count": null,
   "id": "887c8882",
   "metadata": {
    "scrolled": true
   },
   "outputs": [],
   "source": [
    "team_seasons = team_seasons[team_seasons.Season >= '1992']\n"
   ]
  },
  {
   "cell_type": "code",
   "execution_count": null,
   "id": "f31eae0f",
   "metadata": {},
   "outputs": [],
   "source": [
    "match_data = match_data[match_data.Date.notnull()]\n",
    "match_data[match_data.Season >='2017'].isnull().sum()"
   ]
  },
  {
   "cell_type": "code",
   "execution_count": null,
   "id": "755dcbb0",
   "metadata": {},
   "outputs": [],
   "source": [
    "match_data = match_data[match_data.Season >= '1992']"
   ]
  },
  {
   "cell_type": "code",
   "execution_count": null,
   "id": "2a28bf76",
   "metadata": {},
   "outputs": [],
   "source": [
    "def create_pos(df):\n",
    "    df['pos'] = df.index + 1\n",
    "    return df"
   ]
  },
  {
   "cell_type": "code",
   "execution_count": null,
   "id": "60a570de",
   "metadata": {},
   "outputs": [],
   "source": [
    "team_seasons = team_seasons.groupby('Season').apply(create_pos)\n",
    "team_seasons = team_seasons.set_index(['Season',\"Squad\"])"
   ]
  },
  {
   "cell_type": "code",
   "execution_count": null,
   "id": "df4132c9",
   "metadata": {},
   "outputs": [],
   "source": [
    "\n",
    "team = 'Aston Villa'\n",
    "plt.figure(figsize=(20,6))\n",
    "x = [ele.split('/')[0] for ele in team_seasons.loc[:,team,:].index]\n",
    "y = team_seasons.loc[:,team,:].pos\n",
    "sns.scatterplot(x=x,y=y)"
   ]
  },
  {
   "cell_type": "code",
   "execution_count": null,
   "id": "c8090d60",
   "metadata": {},
   "outputs": [],
   "source": [
    "pos_data = pd.DataFrame(index = [str(x)+'/'+str(x+1) for x in range(1992,2024)])\n",
    "\n",
    "def creating_pos_data(team):\n",
    "    return team_seasons.loc[:,team,:].pos\n",
    "\n",
    "for team in team_seasons.index.get_level_values('Squad').unique():\n",
    "    pos_data[team] = creating_pos_data(team)\n",
    "\n",
    "pos_data.index = pos_data.index.map(lambda x: x.split('/')[0])\n",
    "\n",
    "pos_data.head()\n",
    "\n",
    "plt.figure(figsize = (25,10))\n",
    "sns.lineplot(data = pos_data[['Liverpool','Chelsea','Arsenal','Manchester Utd','Manchester City','Tottenham']])"
   ]
  },
  {
   "cell_type": "code",
   "execution_count": null,
   "id": "8a896087",
   "metadata": {},
   "outputs": [],
   "source": [
    "ser = team_seasons.groupby('Season').Pts.max()\n",
    "\n",
    "ser.index = ser.index.map(lambda x: x.split('/')[0])\n",
    "\n",
    "plt.figure(figsize = (25,10))\n",
    "sns.lineplot(data = ser)"
   ]
  },
  {
   "cell_type": "code",
   "execution_count": null,
   "id": "c2189299",
   "metadata": {},
   "outputs": [],
   "source": [
    "sns.jointplot(x='GA',y='GF',data = team_seasons,kind = 'kde',fill=True)"
   ]
  },
  {
   "cell_type": "code",
   "execution_count": null,
   "id": "5880c49a",
   "metadata": {},
   "outputs": [],
   "source": [
    "sns.scatterplot(x='GA',y='GF',data = team_seasons,hue =(team_seasons.pos<=8).map(lambda x:'Winner' if x else 'Losers'))"
   ]
  },
  {
   "cell_type": "code",
   "execution_count": null,
   "id": "dbd3901d",
   "metadata": {},
   "outputs": [],
   "source": [
    "sns.scatterplot(x='Fls',y='CrdY',hue =(team_seasons.pos<=8).map(lambda x:'Winner' if x else 'Losers'),data = team_seasons)"
   ]
  },
  {
   "cell_type": "code",
   "execution_count": null,
   "id": "059ab7fb",
   "metadata": {},
   "outputs": [],
   "source": [
    "sns.regplot(x='Fls',y='CrdY',data = team_seasons)"
   ]
  },
  {
   "cell_type": "code",
   "execution_count": null,
   "id": "f8a68c38",
   "metadata": {},
   "outputs": [],
   "source": [
    "sns.scatterplot(x='Cmp%',y='pos',data = team_seasons)"
   ]
  },
  {
   "cell_type": "code",
   "execution_count": null,
   "id": "6b62922d",
   "metadata": {},
   "outputs": [],
   "source": []
  }
 ],
 "metadata": {
  "kernelspec": {
   "display_name": "Python 3 (ipykernel)",
   "language": "python",
   "name": "python3"
  },
  "language_info": {
   "codemirror_mode": {
    "name": "ipython",
    "version": 3
   },
   "file_extension": ".py",
   "mimetype": "text/x-python",
   "name": "python",
   "nbconvert_exporter": "python",
   "pygments_lexer": "ipython3",
   "version": "3.12.3"
  }
 },
 "nbformat": 4,
 "nbformat_minor": 5
}
