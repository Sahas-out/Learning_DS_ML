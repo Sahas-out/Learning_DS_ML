{
 "cells": [
  {
   "cell_type": "code",
   "execution_count": 1,
   "metadata": {},
   "outputs": [],
   "source": [
    "import pandas as pd\n",
    "import matplotlib.pyplot as plt\n",
    "import seaborn as sns\n",
    "pd.plotting.register_matplotlib_converters()"
   ]
  },
  {
   "cell_type": "code",
   "execution_count": 3,
   "metadata": {},
   "outputs": [
    {
     "name": "stdout",
     "output_type": "stream",
     "text": [
      "Index(['age', 'job', 'marital', 'marital_status', 'education', 'default',\n",
      "       'balance', 'housing', 'loan', 'contact', 'day', 'month', 'day_month',\n",
      "       'duration', 'campaign', 'pdays', 'previous', 'poutcome', 'y'],\n",
      "      dtype='object')\n"
     ]
    }
   ],
   "source": [
    "bank_data = pd.read_csv('banking_data.csv')\n",
    "\n",
    "print(bank_data.columns)"
   ]
  },
  {
   "cell_type": "code",
   "execution_count": 13,
   "metadata": {},
   "outputs": [
    {
     "name": "stdout",
     "output_type": "stream",
     "text": [
      "age --- 0\n",
      "job --- 288\n",
      "marital --- 0\n",
      "marital_status --- 0\n",
      "education --- 1857\n",
      "default --- 0\n",
      "balance --- 0\n",
      "housing --- 0\n",
      "loan --- 0\n",
      "contact --- 13020\n",
      "day --- 0\n",
      "month --- 0\n",
      "day_month --- 0\n",
      "duration --- 0\n",
      "campaign --- 0\n",
      "pdays --- 0\n",
      "previous --- 0\n",
      "poutcome --- 36961\n",
      "y --- 0\n"
     ]
    }
   ],
   "source": [
    "for col in bank_data.columns:\n",
    "    print(f'{col} --- {bank_data[bank_data[col] == 'unknown'].shape[0]}')"
   ]
  },
  {
   "cell_type": "code",
   "execution_count": null,
   "metadata": {},
   "outputs": [],
   "source": []
  }
 ],
 "metadata": {
  "kernelspec": {
   "display_name": "Python 3",
   "language": "python",
   "name": "python3"
  },
  "language_info": {
   "codemirror_mode": {
    "name": "ipython",
    "version": 3
   },
   "file_extension": ".py",
   "mimetype": "text/x-python",
   "name": "python",
   "nbconvert_exporter": "python",
   "pygments_lexer": "ipython3",
   "version": "3.12.3"
  }
 },
 "nbformat": 4,
 "nbformat_minor": 2
}
